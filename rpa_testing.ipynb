{
 "cells": [
  {
   "cell_type": "code",
   "execution_count": 4,
   "metadata": {},
   "outputs": [],
   "source": [
    "import payroll\n",
    "import importlib"
   ]
  },
  {
   "cell_type": "code",
   "execution_count": 36,
   "metadata": {},
   "outputs": [
    {
     "data": {
      "text/plain": [
       "<module 'payroll' from 'C:\\\\Users\\\\Lori\\\\acmebot\\\\payroll.py'>"
      ]
     },
     "execution_count": 36,
     "metadata": {},
     "output_type": "execute_result"
    }
   ],
   "source": [
    "importlib.reload(payroll)"
   ]
  },
  {
   "cell_type": "code",
   "execution_count": 37,
   "metadata": {},
   "outputs": [],
   "source": [
    "p = payroll.Payroll()"
   ]
  },
  {
   "cell_type": "code",
   "execution_count": 38,
   "metadata": {},
   "outputs": [
    {
     "data": {
      "text/plain": [
       "'Ransom.Byers'"
      ]
     },
     "execution_count": 38,
     "metadata": {},
     "output_type": "execute_result"
    }
   ],
   "source": [
    "p.user"
   ]
  },
  {
   "cell_type": "code",
   "execution_count": null,
   "metadata": {},
   "outputs": [],
   "source": [
    "p.login()"
   ]
  },
  {
   "cell_type": "code",
   "execution_count": 35,
   "metadata": {},
   "outputs": [],
   "source": [
    "del p"
   ]
  },
  {
   "cell_type": "code",
   "execution_count": 30,
   "metadata": {},
   "outputs": [
    {
     "ename": "NameError",
     "evalue": "name 'p' is not defined",
     "output_type": "error",
     "traceback": [
      "\u001b[1;31m---------------------------------------------------------------------------\u001b[0m",
      "\u001b[1;31mNameError\u001b[0m                                 Traceback (most recent call last)",
      "\u001b[1;32m<ipython-input-30-c7efc66e9b10>\u001b[0m in \u001b[0;36m<module>\u001b[1;34m\u001b[0m\n\u001b[1;32m----> 1\u001b[1;33m \u001b[0mprint\u001b[0m\u001b[1;33m(\u001b[0m\u001b[0mp\u001b[0m\u001b[1;33m)\u001b[0m\u001b[1;33m\u001b[0m\u001b[1;33m\u001b[0m\u001b[0m\n\u001b[0m",
      "\u001b[1;31mNameError\u001b[0m: name 'p' is not defined"
     ]
    }
   ],
   "source": [
    "p."
   ]
  },
  {
   "cell_type": "code",
   "execution_count": 26,
   "metadata": {},
   "outputs": [
    {
     "data": {
      "text/plain": [
       "True"
      ]
     },
     "execution_count": 26,
     "metadata": {},
     "output_type": "execute_result"
    }
   ],
   "source": [
    "p.r().click('//*[@value=\"View Reports\"]')"
   ]
  },
  {
   "cell_type": "code",
   "execution_count": 34,
   "metadata": {},
   "outputs": [
    {
     "name": "stdout",
     "output_type": "stream",
     "text": [
      "[RPA][ERROR] - cannot find //[@id=\"ctl00_headerImage\"]\n"
     ]
    },
    {
     "data": {
      "text/plain": [
       "''"
      ]
     },
     "execution_count": 34,
     "metadata": {},
     "output_type": "execute_result"
    }
   ],
   "source": [
    "p.r().read('//[@id=\"ctl00_headerImage\"]')"
   ]
  },
  {
   "cell_type": "code",
   "execution_count": 35,
   "metadata": {},
   "outputs": [
    {
     "name": "stdout",
     "output_type": "stream",
     "text": [
      "[RPA][ERROR] - use close() before using init() again\n"
     ]
    }
   ],
   "source": [
    "b = payroll.Payroll()"
   ]
  },
  {
   "cell_type": "code",
   "execution_count": 32,
   "metadata": {},
   "outputs": [
    {
     "name": "stdout",
     "output_type": "stream",
     "text": [
      "https://www.heartlandplusone.com/ViewReport.aspx?oids=173527046%2c173527047%2c173527049%2c173527052%2c173527048%2c173527053%2c173527056%2c173527051%2c173527055%2c173527057%2c173527045%2c173527054%2c173527059%2c173527058%2c173527060\n"
     ]
    }
   ],
   "source": [
    "print(uuurl)"
   ]
  },
  {
   "cell_type": "code",
   "execution_count": 12,
   "metadata": {},
   "outputs": [
    {
     "name": "stdout",
     "output_type": "stream",
     "text": [
      "[RPA][ERROR] - failed downloading from https://www.heartlandplusone.com/ViewReport.aspx?oids=170964325%2c170964326%2c170964328%2c170964331%2c170964327%2c170964332%2c170964335%2c170964330%2c170964334%2c170964336%2c170964324%2c170964333%2c170964338%2c170964337%2c170964339&...\n",
      "[Errno 22] Invalid argument: 'ViewReport.aspx?oids=170964325%2c170964326%2c170964328%2c170964331%2c170964327%2c170964332%2c170964335%2c170964330%2c170964334%2c170964336%2c170964324%2c170964333%2c170964338%2c170964337%2c170964339&'\n"
     ]
    },
    {
     "data": {
      "text/plain": [
       "False"
      ]
     },
     "execution_count": 12,
     "metadata": {},
     "output_type": "execute_result"
    }
   ],
   "source": [
    "p.r().download('https://www.heartlandplusone.com/ViewReport.aspx?oids=170964325%2c170964326%2c170964328%2c170964331%2c170964327%2c170964332%2c170964335%2c170964330%2c170964334%2c170964336%2c170964324%2c170964333%2c170964338%2c170964337%2c170964339&')"
   ]
  },
  {
   "cell_type": "code",
   "execution_count": 15,
   "metadata": {},
   "outputs": [
    {
     "data": {
      "text/plain": [
       "True"
      ]
     },
     "execution_count": 15,
     "metadata": {},
     "output_type": "execute_result"
    }
   ],
   "source": [
    "p.r().close()"
   ]
  },
  {
   "cell_type": "code",
   "execution_count": 23,
   "metadata": {},
   "outputs": [
    {
     "data": {
      "text/plain": [
       "True"
      ]
     },
     "execution_count": 23,
     "metadata": {},
     "output_type": "execute_result"
    }
   ],
   "source": [
    "p.r().url('https://www.heartlandplusone.com/ViewReport.aspx?oids=170964325%2c170964326%2c170964328%2c170964331%2c170964327%2c170964332%2c170964335%2c170964330%2c170964334%2c170964336%2c170964324%2c170964333%2c170964338%2c170964337%2c170964339&')"
   ]
  },
  {
   "cell_type": "code",
   "execution_count": 25,
   "metadata": {},
   "outputs": [
    {
     "data": {
      "text/plain": [
       "True"
      ]
     },
     "execution_count": 25,
     "metadata": {},
     "output_type": "execute_result"
    }
   ],
   "source": [
    "p.r().download(fileURL,'again2.html')"
   ]
  },
  {
   "cell_type": "code",
   "execution_count": 18,
   "metadata": {},
   "outputs": [
    {
     "name": "stdout",
     "output_type": "stream",
     "text": [
      "[RPA][ERROR] - failed downloading from https://www.heartlandplusone.com/ViewReport.aspx?oids=170964325%2c170964326%2c170964328%2c170964331%2c170964327%2c170964332%2c170964335%2c170964330%2c170964334%2c170964336%2c170964324%2c170964333%2c170964338%2c170964337%2c170964339&...\n",
      "[Errno 22] Invalid argument: 'ViewReport.aspx?oids=170964325%2c170964326%2c170964328%2c170964331%2c170964327%2c170964332%2c170964335%2c170964330%2c170964334%2c170964336%2c170964324%2c170964333%2c170964338%2c170964337%2c170964339&'\n"
     ]
    },
    {
     "data": {
      "text/plain": [
       "False"
      ]
     },
     "execution_count": 18,
     "metadata": {},
     "output_type": "execute_result"
    }
   ],
   "source": [
    "p.r().download('https://www.heartlandplusone.com/ViewReport.aspx?oids=170964325%2c170964326%2c170964328%2c170964331%2c170964327%2c170964332%2c170964335%2c170964330%2c170964334%2c170964336%2c170964324%2c170964333%2c170964338%2c170964337%2c170964339&')"
   ]
  },
  {
   "cell_type": "code",
   "execution_count": null,
   "metadata": {},
   "outputs": [],
   "source": []
  }
 ],
 "metadata": {
  "kernelspec": {
   "display_name": "Python 3",
   "language": "python",
   "name": "python3"
  },
  "language_info": {
   "codemirror_mode": {
    "name": "ipython",
    "version": 3
   },
   "file_extension": ".py",
   "mimetype": "text/x-python",
   "name": "python",
   "nbconvert_exporter": "python",
   "pygments_lexer": "ipython3",
   "version": "3.8.5"
  },
  "toc-autonumbering": false,
  "toc-showcode": false,
  "toc-showmarkdowntxt": true
 },
 "nbformat": 4,
 "nbformat_minor": 4
}
