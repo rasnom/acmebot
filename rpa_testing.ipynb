{
 "cells": [
  {
   "cell_type": "code",
   "execution_count": 1,
   "metadata": {},
   "outputs": [],
   "source": [
    "import payroll"
   ]
  },
  {
   "cell_type": "code",
   "execution_count": 2,
   "metadata": {},
   "outputs": [],
   "source": [
    "p = payroll.Payroll()"
   ]
  },
  {
   "cell_type": "code",
   "execution_count": 3,
   "metadata": {},
   "outputs": [],
   "source": [
    "p.login()"
   ]
  },
  {
   "cell_type": "code",
   "execution_count": 4,
   "metadata": {},
   "outputs": [],
   "source": [
    "p.get_to_reports()"
   ]
  },
  {
   "cell_type": "raw",
   "metadata": {},
   "source": [
    "p.r().keyboard('[ctrl]S')"
   ]
  },
  {
   "cell_type": "code",
   "execution_count": 25,
   "metadata": {},
   "outputs": [
    {
     "name": "stdout",
     "output_type": "stream",
     "text": [
      "[RPA][ERROR] - cannot find //*[contains(text(), \"View Reports\")]\n"
     ]
    },
    {
     "data": {
      "text/plain": [
       "False"
      ]
     },
     "execution_count": 25,
     "metadata": {},
     "output_type": "execute_result"
    }
   ],
   "source": [
    "p.r().click('//*[contains(text(), \"View Reports\")]')"
   ]
  },
  {
   "cell_type": "code",
   "execution_count": 26,
   "metadata": {},
   "outputs": [
    {
     "data": {
      "text/plain": [
       "True"
      ]
     },
     "execution_count": 26,
     "metadata": {},
     "output_type": "execute_result"
    }
   ],
   "source": [
    "p.r().click('//*[@value=\"View Reports\"]')"
   ]
  },
  {
   "cell_type": "code",
   "execution_count": 34,
   "metadata": {},
   "outputs": [
    {
     "name": "stdout",
     "output_type": "stream",
     "text": [
      "[RPA][ERROR] - cannot find //[@id=\"ctl00_headerImage\"]\n"
     ]
    },
    {
     "data": {
      "text/plain": [
       "''"
      ]
     },
     "execution_count": 34,
     "metadata": {},
     "output_type": "execute_result"
    }
   ],
   "source": [
    "p.r().read('//[@id=\"ctl00_headerImage\"]')"
   ]
  },
  {
   "cell_type": "code",
   "execution_count": 35,
   "metadata": {},
   "outputs": [
    {
     "name": "stdout",
     "output_type": "stream",
     "text": [
      "[RPA][ERROR] - use close() before using init() again\n"
     ]
    }
   ],
   "source": [
    "b = payroll.Payroll()"
   ]
  },
  {
   "cell_type": "code",
   "execution_count": 32,
   "metadata": {},
   "outputs": [
    {
     "name": "stdout",
     "output_type": "stream",
     "text": [
      "https://www.heartlandplusone.com/ViewReport.aspx?oids=173527046%2c173527047%2c173527049%2c173527052%2c173527048%2c173527053%2c173527056%2c173527051%2c173527055%2c173527057%2c173527045%2c173527054%2c173527059%2c173527058%2c173527060\n"
     ]
    }
   ],
   "source": [
    "print(uuurl)"
   ]
  },
  {
   "cell_type": "code",
   "execution_count": 12,
   "metadata": {},
   "outputs": [
    {
     "name": "stdout",
     "output_type": "stream",
     "text": [
      "[RPA][ERROR] - failed downloading from https://www.heartlandplusone.com/ViewReport.aspx?oids=170964325%2c170964326%2c170964328%2c170964331%2c170964327%2c170964332%2c170964335%2c170964330%2c170964334%2c170964336%2c170964324%2c170964333%2c170964338%2c170964337%2c170964339&...\n",
      "[Errno 22] Invalid argument: 'ViewReport.aspx?oids=170964325%2c170964326%2c170964328%2c170964331%2c170964327%2c170964332%2c170964335%2c170964330%2c170964334%2c170964336%2c170964324%2c170964333%2c170964338%2c170964337%2c170964339&'\n"
     ]
    },
    {
     "data": {
      "text/plain": [
       "False"
      ]
     },
     "execution_count": 12,
     "metadata": {},
     "output_type": "execute_result"
    }
   ],
   "source": [
    "p.r().download('https://www.heartlandplusone.com/ViewReport.aspx?oids=170964325%2c170964326%2c170964328%2c170964331%2c170964327%2c170964332%2c170964335%2c170964330%2c170964334%2c170964336%2c170964324%2c170964333%2c170964338%2c170964337%2c170964339&')"
   ]
  },
  {
   "cell_type": "code",
   "execution_count": 15,
   "metadata": {},
   "outputs": [
    {
     "data": {
      "text/plain": [
       "True"
      ]
     },
     "execution_count": 15,
     "metadata": {},
     "output_type": "execute_result"
    }
   ],
   "source": [
    "p.r().close()"
   ]
  },
  {
   "cell_type": "code",
   "execution_count": 23,
   "metadata": {},
   "outputs": [
    {
     "data": {
      "text/plain": [
       "True"
      ]
     },
     "execution_count": 23,
     "metadata": {},
     "output_type": "execute_result"
    }
   ],
   "source": [
    "p.r().url('https://www.heartlandplusone.com/ViewReport.aspx?oids=170964325%2c170964326%2c170964328%2c170964331%2c170964327%2c170964332%2c170964335%2c170964330%2c170964334%2c170964336%2c170964324%2c170964333%2c170964338%2c170964337%2c170964339&')"
   ]
  },
  {
   "cell_type": "code",
   "execution_count": 25,
   "metadata": {},
   "outputs": [
    {
     "data": {
      "text/plain": [
       "True"
      ]
     },
     "execution_count": 25,
     "metadata": {},
     "output_type": "execute_result"
    }
   ],
   "source": [
    "p.r().download(fileURL,'again2.html')"
   ]
  },
  {
   "cell_type": "code",
   "execution_count": 18,
   "metadata": {},
   "outputs": [
    {
     "name": "stdout",
     "output_type": "stream",
     "text": [
      "[RPA][ERROR] - failed downloading from https://www.heartlandplusone.com/ViewReport.aspx?oids=170964325%2c170964326%2c170964328%2c170964331%2c170964327%2c170964332%2c170964335%2c170964330%2c170964334%2c170964336%2c170964324%2c170964333%2c170964338%2c170964337%2c170964339&...\n",
      "[Errno 22] Invalid argument: 'ViewReport.aspx?oids=170964325%2c170964326%2c170964328%2c170964331%2c170964327%2c170964332%2c170964335%2c170964330%2c170964334%2c170964336%2c170964324%2c170964333%2c170964338%2c170964337%2c170964339&'\n"
     ]
    },
    {
     "data": {
      "text/plain": [
       "False"
      ]
     },
     "execution_count": 18,
     "metadata": {},
     "output_type": "execute_result"
    }
   ],
   "source": [
    "p.r().download('https://www.heartlandplusone.com/ViewReport.aspx?oids=170964325%2c170964326%2c170964328%2c170964331%2c170964327%2c170964332%2c170964335%2c170964330%2c170964334%2c170964336%2c170964324%2c170964333%2c170964338%2c170964337%2c170964339&')"
   ]
  },
  {
   "cell_type": "code",
   "execution_count": null,
   "metadata": {},
   "outputs": [],
   "source": []
  }
 ],
 "metadata": {
  "kernelspec": {
   "display_name": "Python 3",
   "language": "python",
   "name": "python3"
  },
  "language_info": {
   "codemirror_mode": {
    "name": "ipython",
    "version": 3
   },
   "file_extension": ".py",
   "mimetype": "text/x-python",
   "name": "python",
   "nbconvert_exporter": "python",
   "pygments_lexer": "ipython3",
   "version": "3.8.10"
  },
  "toc-autonumbering": false,
  "toc-showcode": false,
  "toc-showmarkdowntxt": true
 },
 "nbformat": 4,
 "nbformat_minor": 4
}
