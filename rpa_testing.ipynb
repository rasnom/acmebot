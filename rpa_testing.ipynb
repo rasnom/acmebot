{
 "cells": [
  {
   "cell_type": "code",
   "execution_count": 18,
   "metadata": {},
   "outputs": [
    {
     "data": {
      "text/plain": [
       "<module 'payroll' from 'C:\\\\Users\\\\Rasnom\\\\acmebot\\\\payroll.py'>"
      ]
     },
     "execution_count": 18,
     "metadata": {},
     "output_type": "execute_result"
    }
   ],
   "source": [
    "importlib.reload(payroll)"
   ]
  },
  {
   "cell_type": "code",
   "execution_count": 1,
   "metadata": {},
   "outputs": [],
   "source": [
    "import payroll\n",
    "import importlib"
   ]
  },
  {
   "cell_type": "code",
   "execution_count": 2,
   "metadata": {},
   "outputs": [],
   "source": [
    "p = payroll.Payroll()"
   ]
  },
  {
   "cell_type": "code",
   "execution_count": 3,
   "metadata": {},
   "outputs": [],
   "source": [
    "p.login()"
   ]
  },
  {
   "cell_type": "code",
   "execution_count": 4,
   "metadata": {},
   "outputs": [
    {
     "name": "stdout",
     "output_type": "stream",
     "text": [
      "in main window:  CDwindow-122C1838AB04C26C64B385ABA664C5D5\n",
      "report handle CDwindow-4C3CC7B4EF8E5E85DAB9FF465A88631E\n",
      "in popup   CDwindow-4C3CC7B4EF8E5E85DAB9FF465A88631E\n",
      "<html style=\"height: 100%;\" xmlns=\"http://www.w3.org/1999/xhtml\"><head><link href=\"App_Themes/Heartland/_DefaultStyles.css\" type=\"text/css\" rel=\"stylesheet\"><link href=\"App_Themes/Heartland/Form.css\" type=\"text/css\" rel=\"stylesheet\"><link href=\"App_Themes/Heartland/Grid.css\" type=\"text/css\" rel=\"stylesheet\"><link href=\"App_Themes/Heartland/HLLogin.css\" type=\"text/css\" rel=\"stylesheet\"><link href=\"App_Themes/Heartland/ImportValidationGrid.css\" type=\"text/css\" rel=\"stylesheet\"><link href=\"App_Themes/Heartland/jquery.ui.resizable.css\" type=\"text/css\" rel=\"stylesheet\"><link href=\"App_Themes/Heartland/Layout.css\" type=\"text/css\" rel=\"stylesheet\"><link href=\"App_Themes/Heartland/Menu.css\" type=\"text/css\" rel=\"stylesheet\"><link href=\"App_Themes/Heartland/Tabs.css\" type=\"text/css\" rel=\"stylesheet\"><link href=\"App_Themes/Heartland/TimeEntryGrid.css\" type=\"text/css\" rel=\"stylesheet\"><link href=\"App_Themes/Heartland/Toolbar.css\" type=\"text/css\" rel=\"stylesheet\"><link href=\"App_Themes/Heartland/Window.css\" type=\"text/css\" rel=\"stylesheet\">\n",
      "<script type=\"text/javascript\">\n",
      "\n",
      "    var interval = 0;\n",
      "\n",
      "    function StartTimers() {\n",
      "        interval = setInterval('CheckReport()', 1000);\n",
      "        setTimeout('DoPostBack()', 4000);\n",
      "    }\n",
      "\n",
      "    function CheckReport() {\n",
      "\n",
      "        var isComplete = GetCookie(\"IsComplete\");\n",
      "        if (isComplete && isComplete == \"True\") {\n",
      "            clearInterval(interval);\n",
      "            ShowDownloadComplete();\n",
      "            CloseWindow();\n",
      "        }\n",
      "    }\n",
      "\n",
      "    function ShowDownloadComplete() {\n",
      "   \n",
      "        var element = document.getElementById(\"LoadingDiv\");\n",
      "        if (element) {\n",
      "            element.innerHTML = \"Download Complete!\";\n",
      "        }\n",
      "\n",
      "    }\n",
      "\n",
      "    function CloseWindow() {\n",
      "\n",
      "        var isDownload = GetCookie(\"IsDownload\");\n",
      "        if (isDownload && isDownload == \"True\") {\n",
      "            if (navigator.userAgent.indexOf(\"Firefox\") != -1) {\n",
      "                window.close();\n",
      "            }\n",
      "        }\n",
      "    }\n",
      "    \n",
      "    function GetCookie(name) {\n",
      "\n",
      "        var cookies = document.cookie;\n",
      "        if (cookies) {\n",
      "\n",
      "            cookies = cookies.replace(\" \", \"\");\n",
      "            var idx = cookies.indexOf(name);\n",
      "            if (idx != -1) {\n",
      "\n",
      "                var valuePairs = cookies.split(\";\");\n",
      "                if (valuePairs && valuePairs.length > 0) {\n",
      "\n",
      "                    for (var x = 0; x < valuePairs.length; x++) {\n",
      "\n",
      "                        if (valuePairs[x].indexOf(name) != -1) {\n",
      "\n",
      "                            var values = valuePairs[x].split(\"=\");\n",
      "                            if (values && values.length == 2) {\n",
      "                                if (values[0].trim() == name) {\n",
      "                                    return values[1];\n",
      "                                }\n",
      "                            }\n",
      "                        }\n",
      "                    }\n",
      "                }\n",
      "                else {\n",
      "                    var valuePairs = cookies.split(\"=\");\n",
      "                    if (valuePairs && valuePairs.length == 2) {\n",
      "                        if (valuePairs[0].trim() == name) {\n",
      "                            return values[1];\n",
      "                        }\n",
      "                    }\n",
      "                }\n",
      "            }\n",
      "        }\n",
      "      \n",
      "        return null;\n",
      "    }\n",
      "\n",
      "    function DoPostBack() {\n",
      "        if (document.getElementById('loadingMessageP')) {\n",
      "            __doPostBack('', '');\n",
      "        }\n",
      "    }\n",
      "    \n",
      "</script>\n",
      "    <title>\n",
      "\tCONSOLIDATE PAYROLL ARCHIVE REPORT\n",
      "</title><link href=\"App_Themes/Heartland/_DefaultStyles.css\" type=\"text/css\" rel=\"stylesheet\"><link href=\"App_Themes/Heartland/Form.css\" type=\"text/css\" rel=\"stylesheet\"><link href=\"App_Themes/Heartland/Grid.css\" type=\"text/css\" rel=\"stylesheet\"><link href=\"App_Themes/Heartland/HLLogin.css\" type=\"text/css\" rel=\"stylesheet\"><link href=\"App_Themes/Heartland/ImportValidationGrid.css\" type=\"text/css\" rel=\"stylesheet\"><link href=\"App_Themes/Heartland/jquery.ui.resizable.css\" type=\"text/css\" rel=\"stylesheet\"><link href=\"App_Themes/Heartland/Layout.css\" type=\"text/css\" rel=\"stylesheet\"><link href=\"App_Themes/Heartland/Menu.css\" type=\"text/css\" rel=\"stylesheet\"><link href=\"App_Themes/Heartland/Tabs.css\" type=\"text/css\" rel=\"stylesheet\"><link href=\"App_Themes/Heartland/TimeEntryGrid.css\" type=\"text/css\" rel=\"stylesheet\"><link href=\"App_Themes/Heartland/Toolbar.css\" type=\"text/css\" rel=\"stylesheet\"><link href=\"App_Themes/Heartland/Window.css\" type=\"text/css\" rel=\"stylesheet\"></head>\n",
      "<body id=\"bodyTag\" onload=\"StartTimers();\">\n",
      "    <form name=\"form1\" method=\"post\" action=\"./ViewReport.aspx?oids=170964325%2c170964326%2c170964328%2c170964331%2c170964327%2c170964332%2c170964335%2c170964330%2c170964334%2c170964336%2c170964324%2c170964333%2c170964338%2c170964337%2c170964339&amp;\" id=\"form1\">\n",
      "<div>\n",
      "<input type=\"hidden\" name=\"__EVENTTARGET\" id=\"__EVENTTARGET\" value=\"\">\n",
      "<input type=\"hidden\" name=\"__EVENTARGUMENT\" id=\"__EVENTARGUMENT\" value=\"\">\n",
      "<input type=\"hidden\" name=\"__VIEWSTATE\" id=\"__VIEWSTATE\" value=\"s2StsjuAewF3iWfk9BD7I5zDER86Y1IvXHEfHyEv7gX27x6BgFT8UKObZpUd7kzpqdlo6BN8IK5xqnEt0/aiZQ10m8vUcTM0sCLSc1Iyu1k=\">\n",
      "</div>\n",
      "\n",
      "<script type=\"text/javascript\">\n",
      "//<![CDATA[\n",
      "var theForm = document.forms['form1'];\n",
      "if (!theForm) {\n",
      "    theForm = document.form1;\n",
      "}\n",
      "function __doPostBack(eventTarget, eventArgument) {\n",
      "    if (!theForm.onsubmit || (theForm.onsubmit() != false)) {\n",
      "        theForm.__EVENTTARGET.value = eventTarget;\n",
      "        theForm.__EVENTARGUMENT.value = eventArgument;\n",
      "        theForm.submit();\n",
      "    }\n",
      "}\n",
      "//]]>\n",
      "</script>\n",
      "\n",
      "\n",
      "<div>\n",
      "\n",
      "\t<input type=\"hidden\" name=\"__VIEWSTATEGENERATOR\" id=\"__VIEWSTATEGENERATOR\" value=\"A85A480D\">\n",
      "</div>\n",
      "    <div id=\"ErrorDiv\" style=\"text-align: center; padding-top: 30px; color: Red;\">\n",
      "        <p id=\"ErrorP\"></p>\n",
      "    </div>\n",
      "    <div id=\"LoadingDiv\" style=\"text-align: center; padding-top: 30px;\">\n",
      "\t    <img id=\"LoadingImage\" src=\"Shared/ajax-loader.gif\" style=\"border-width:0px;\">\n",
      "\t    <p id=\"loadingMessageP\" style=\"padding-top: 5px;\">\n",
      "\t\t    Please wait while your report is loaded.<br>\n",
      "\t\t    This process may take several minutes...\n",
      "\t\t</p>\n",
      "\t</div>\n",
      "\t\n",
      "    </form>\n",
      "\n",
      "\n",
      "</body></html>\n"
     ]
    }
   ],
   "source": [
    "p.get_reports()"
   ]
  },
  {
   "cell_type": "markdown",
   "metadata": {},
   "source": [
    "###### p.b().get_all_links()"
   ]
  },
  {
   "cell_type": "code",
   "execution_count": 8,
   "metadata": {},
   "outputs": [
    {
     "data": {
      "text/plain": [
       "'<html><head></head><body style=\"height: 100%; width: 100%; overflow: hidden; margin:0px; background-color: rgb(82, 86, 89);\"><embed name=\"CB20E55C2F1C12D8B1884652B702A462\" style=\"position:absolute; left: 0; top: 0;\" width=\"100%\" height=\"100%\" src=\"about:blank\" type=\"application/pdf\" internalid=\"CB20E55C2F1C12D8B1884652B702A462\"></body></html>'"
      ]
     },
     "execution_count": 8,
     "metadata": {},
     "output_type": "execute_result"
    }
   ],
   "source": [
    "p.b().get_source()"
   ]
  },
  {
   "cell_type": "code",
   "execution_count": 10,
   "metadata": {},
   "outputs": [
    {
     "data": {
      "text/plain": [
       "{'chrome': 'ChromeOptions', 'firefox': 'FirefoxOptions'}"
      ]
     },
     "execution_count": 10,
     "metadata": {},
     "output_type": "execute_result"
    }
   ],
   "source": [
    "p.b().AVAILABLE_OPTIONS"
   ]
  },
  {
   "cell_type": "code",
   "execution_count": 41,
   "metadata": {},
   "outputs": [
    {
     "data": {
      "text/plain": [
       "['AVAILABLE_OPTIONS',\n",
       " 'Get WebElement',\n",
       " 'Get WebElements',\n",
       " 'ROBOT_LIBRARY_DOC_FORMAT',\n",
       " 'ROBOT_LIBRARY_LISTENER',\n",
       " 'ROBOT_LIBRARY_SCOPE',\n",
       " 'ROBOT_LIBRARY_VERSION',\n",
       " '_DynamicCore__get_keyword',\n",
       " '_DynamicCore__get_keyword_line',\n",
       " '_DynamicCore__get_keyword_path',\n",
       " '_HybridCore__get_members',\n",
       " '_HybridCore__get_members_from_instance',\n",
       " '__class__',\n",
       " '__delattr__',\n",
       " '__dict__',\n",
       " '__dir__',\n",
       " '__doc__',\n",
       " '__eq__',\n",
       " '__format__',\n",
       " '__ge__',\n",
       " '__getattr__',\n",
       " '__getattribute__',\n",
       " '__gt__',\n",
       " '__hash__',\n",
       " '__init__',\n",
       " '__init_subclass__',\n",
       " '__le__',\n",
       " '__lt__',\n",
       " '__module__',\n",
       " '__ne__',\n",
       " '__new__',\n",
       " '__reduce__',\n",
       " '__reduce_ex__',\n",
       " '__repr__',\n",
       " '__setattr__',\n",
       " '__sizeof__',\n",
       " '__str__',\n",
       " '__subclasshook__',\n",
       " '__weakref__',\n",
       " '_arg_browser_selection',\n",
       " '_arg_download',\n",
       " '_arg_headless',\n",
       " '_close_on_exit',\n",
       " '_create_webdriver',\n",
       " '_drivers',\n",
       " '_element_finder',\n",
       " '_embedding_screenshots',\n",
       " '_find_by_alias',\n",
       " '_get_driver_args',\n",
       " '_get_intro_documentation',\n",
       " '_parse_listener',\n",
       " '_parse_plugin_doc',\n",
       " '_parse_plugins',\n",
       " '_plugin_keywords',\n",
       " '_plugins',\n",
       " '_previous_screenshot_directory',\n",
       " '_resolve_screenshot_root_directory',\n",
       " '_run_should_keyword_and_return_status',\n",
       " '_running_keyword',\n",
       " '_running_on_failure_keyword',\n",
       " '_send_command_and_get_result',\n",
       " '_set_headless_options',\n",
       " '_set_user_profile',\n",
       " '_store_plugin_keywords',\n",
       " '_string_to_modules',\n",
       " 'add_cookie',\n",
       " 'add_library_components',\n",
       " 'add_location_strategy',\n",
       " 'alert_should_be_present',\n",
       " 'alert_should_not_be_present',\n",
       " 'assign_id_to_element',\n",
       " 'attach_chrome_browser',\n",
       " 'attributes',\n",
       " 'auto_close',\n",
       " 'capture_element_screenshot',\n",
       " 'capture_page_screenshot',\n",
       " 'checkbox_should_be_selected',\n",
       " 'checkbox_should_not_be_selected',\n",
       " 'choose_file',\n",
       " 'clear_all_highlights',\n",
       " 'clear_element_text',\n",
       " 'click_button',\n",
       " 'click_button_when_visible',\n",
       " 'click_element',\n",
       " 'click_element_at_coordinates',\n",
       " 'click_element_if_visible',\n",
       " 'click_element_when_visible',\n",
       " 'click_image',\n",
       " 'click_link',\n",
       " 'close_all_browsers',\n",
       " 'close_browser',\n",
       " 'close_window',\n",
       " 'cover_element',\n",
       " 'create_webdriver',\n",
       " 'current_frame_should_contain',\n",
       " 'current_frame_should_not_contain',\n",
       " 'delete_all_cookies',\n",
       " 'delete_cookie',\n",
       " 'does_alert_contain',\n",
       " 'does_alert_not_contain',\n",
       " 'does_element_contain',\n",
       " 'does_frame_contain',\n",
       " 'does_location_contain',\n",
       " 'does_page_contain',\n",
       " 'does_page_contain_button',\n",
       " 'does_page_contain_checkbox',\n",
       " 'does_page_contain_element',\n",
       " 'does_page_contain_image',\n",
       " 'does_page_contain_link',\n",
       " 'does_page_contain_list',\n",
       " 'does_page_contain_radio_button',\n",
       " 'does_page_contain_textfield',\n",
       " 'does_table_cell_contain',\n",
       " 'does_table_column_contain',\n",
       " 'does_table_contain',\n",
       " 'does_table_footer_contain',\n",
       " 'does_table_header_contain',\n",
       " 'does_table_row_contain',\n",
       " 'does_textarea_contain',\n",
       " 'does_textfield_contain',\n",
       " 'double_click_element',\n",
       " 'download_preferences',\n",
       " 'drag_and_drop',\n",
       " 'drag_and_drop_by_offset',\n",
       " 'driver',\n",
       " 'element_attribute_value_should_be',\n",
       " 'element_should_be_disabled',\n",
       " 'element_should_be_enabled',\n",
       " 'element_should_be_focused',\n",
       " 'element_should_be_visible',\n",
       " 'element_should_contain',\n",
       " 'element_should_not_be_visible',\n",
       " 'element_should_not_contain',\n",
       " 'element_text_should_be',\n",
       " 'element_text_should_not_be',\n",
       " 'event_firing_webdriver',\n",
       " 'execute_async_javascript',\n",
       " 'execute_cdp',\n",
       " 'execute_javascript',\n",
       " 'failure_occurred',\n",
       " 'find_element',\n",
       " 'find_elements',\n",
       " 'frame_should_contain',\n",
       " 'get_all_links',\n",
       " 'get_browser_aliases',\n",
       " 'get_browser_capabilities',\n",
       " 'get_browser_ids',\n",
       " 'get_cookie',\n",
       " 'get_cookies',\n",
       " 'get_element_attribute',\n",
       " 'get_element_count',\n",
       " 'get_element_size',\n",
       " 'get_element_status',\n",
       " 'get_horizontal_position',\n",
       " 'get_keyword_arguments',\n",
       " 'get_keyword_documentation',\n",
       " 'get_keyword_names',\n",
       " 'get_keyword_source',\n",
       " 'get_keyword_tags',\n",
       " 'get_keyword_types',\n",
       " 'get_list_items',\n",
       " 'get_location',\n",
       " 'get_locations',\n",
       " 'get_selected_list_label',\n",
       " 'get_selected_list_labels',\n",
       " 'get_selected_list_value',\n",
       " 'get_selected_list_values',\n",
       " 'get_selenium_implicit_wait',\n",
       " 'get_selenium_speed',\n",
       " 'get_selenium_timeout',\n",
       " 'get_session_id',\n",
       " 'get_source',\n",
       " 'get_table_cell',\n",
       " 'get_testability_status',\n",
       " 'get_text',\n",
       " 'get_title',\n",
       " 'get_value',\n",
       " 'get_vertical_position',\n",
       " 'get_webelement',\n",
       " 'get_webelements',\n",
       " 'get_window_handles',\n",
       " 'get_window_identifiers',\n",
       " 'get_window_names',\n",
       " 'get_window_position',\n",
       " 'get_window_size',\n",
       " 'get_window_titles',\n",
       " 'go_back',\n",
       " 'go_to',\n",
       " 'handle_alert',\n",
       " 'highlight_elements',\n",
       " 'implicit_wait',\n",
       " 'input_password',\n",
       " 'input_text',\n",
       " 'input_text_into_alert',\n",
       " 'input_text_when_element_is_visible',\n",
       " 'is_alert_present',\n",
       " 'is_checkbox_selected',\n",
       " 'is_element_attribute_equal_to',\n",
       " 'is_element_disabled',\n",
       " 'is_element_enabled',\n",
       " 'is_element_focused',\n",
       " 'is_element_text',\n",
       " 'is_element_visible',\n",
       " 'is_list_selected',\n",
       " 'is_list_selection',\n",
       " 'is_location',\n",
       " 'is_radio_button_selected',\n",
       " 'is_radio_button_set_to',\n",
       " 'is_textarea_value',\n",
       " 'is_textfield_value',\n",
       " 'is_title',\n",
       " 'keywords',\n",
       " 'keywords_spec',\n",
       " 'list_selection_should_be',\n",
       " 'list_should_have_no_selections',\n",
       " 'location',\n",
       " 'location_should_be',\n",
       " 'location_should_contain',\n",
       " 'locators_path',\n",
       " 'log_location',\n",
       " 'log_source',\n",
       " 'log_title',\n",
       " 'logger',\n",
       " 'maximize_browser_window',\n",
       " 'mouse_down',\n",
       " 'mouse_down_on_image',\n",
       " 'mouse_down_on_link',\n",
       " 'mouse_out',\n",
       " 'mouse_over',\n",
       " 'mouse_up',\n",
       " 'open_available_browser',\n",
       " 'open_browser',\n",
       " 'open_chrome_browser',\n",
       " 'open_context_menu',\n",
       " 'open_headless_chrome_browser',\n",
       " 'open_user_browser',\n",
       " 'page_should_contain',\n",
       " 'page_should_contain_button',\n",
       " 'page_should_contain_checkbox',\n",
       " 'page_should_contain_element',\n",
       " 'page_should_contain_image',\n",
       " 'page_should_contain_link',\n",
       " 'page_should_contain_list',\n",
       " 'page_should_contain_radio_button',\n",
       " 'page_should_contain_textfield',\n",
       " 'page_should_not_contain',\n",
       " 'page_should_not_contain_button',\n",
       " 'page_should_not_contain_checkbox',\n",
       " 'page_should_not_contain_element',\n",
       " 'page_should_not_contain_image',\n",
       " 'page_should_not_contain_link',\n",
       " 'page_should_not_contain_list',\n",
       " 'page_should_not_contain_radio_button',\n",
       " 'page_should_not_contain_textfield',\n",
       " 'press_key',\n",
       " 'press_keys',\n",
       " 'print_to_pdf',\n",
       " 'radio_button_should_be_set_to',\n",
       " 'radio_button_should_not_be_selected',\n",
       " 'register_driver',\n",
       " 'register_keyword_to_run_on_failure',\n",
       " 'reload_page',\n",
       " 'remove_location_strategy',\n",
       " 'run_keyword',\n",
       " 'run_on_failure_keyword',\n",
       " 'screenshot',\n",
       " 'screenshot_root_directory',\n",
       " 'scroll_element_into_view',\n",
       " 'select_all_from_list',\n",
       " 'select_checkbox',\n",
       " 'select_frame',\n",
       " 'select_from_list_by_index',\n",
       " 'select_from_list_by_label',\n",
       " 'select_from_list_by_value',\n",
       " 'select_radio_button',\n",
       " 'set_browser_implicit_wait',\n",
       " 'set_download_directory',\n",
       " 'set_focus_to_element',\n",
       " 'set_screenshot_directory',\n",
       " 'set_selenium_implicit_wait',\n",
       " 'set_selenium_speed',\n",
       " 'set_selenium_timeout',\n",
       " 'set_window_position',\n",
       " 'set_window_size',\n",
       " 'simulate_event',\n",
       " 'speed',\n",
       " 'submit_form',\n",
       " 'switch_browser',\n",
       " 'switch_window',\n",
       " 'table_cell_should_contain',\n",
       " 'table_column_should_contain',\n",
       " 'table_footer_should_contain',\n",
       " 'table_header_should_contain',\n",
       " 'table_row_should_contain',\n",
       " 'table_should_contain',\n",
       " 'textarea_should_contain',\n",
       " 'textarea_value_should_be',\n",
       " 'textfield_should_contain',\n",
       " 'textfield_value_should_be',\n",
       " 'timeout',\n",
       " 'title_should_be',\n",
       " 'unselect_all_from_list',\n",
       " 'unselect_checkbox',\n",
       " 'unselect_frame',\n",
       " 'unselect_from_list_by_index',\n",
       " 'unselect_from_list_by_label',\n",
       " 'unselect_from_list_by_value',\n",
       " 'using_testability',\n",
       " 'wait_and_click_button',\n",
       " 'wait_for_condition',\n",
       " 'wait_until_element_contains',\n",
       " 'wait_until_element_does_not_contain',\n",
       " 'wait_until_element_is_enabled',\n",
       " 'wait_until_element_is_not_visible',\n",
       " 'wait_until_element_is_visible',\n",
       " 'wait_until_location_contains',\n",
       " 'wait_until_location_does_not_contain',\n",
       " 'wait_until_location_is',\n",
       " 'wait_until_location_is_not',\n",
       " 'wait_until_page_contains',\n",
       " 'wait_until_page_contains_element',\n",
       " 'wait_until_page_does_not_contain',\n",
       " 'wait_until_page_does_not_contain_element']"
      ]
     },
     "execution_count": 41,
     "metadata": {},
     "output_type": "execute_result"
    }
   ],
   "source": [
    "dir(p.b())"
   ]
  },
  {
   "cell_type": "code",
   "execution_count": 6,
   "metadata": {},
   "outputs": [
    {
     "data": {
      "text/plain": [
       "[]"
      ]
     },
     "execution_count": 6,
     "metadata": {},
     "output_type": "execute_result"
    }
   ],
   "source": [
    "p.b().f"
   ]
  },
  {
   "cell_type": "code",
   "execution_count": 12,
   "metadata": {},
   "outputs": [
    {
     "name": "stdout",
     "output_type": "stream",
     "text": [
      "[RPA][ERROR] - failed downloading from https://www.heartlandplusone.com/ViewReport.aspx?oids=170964325%2c170964326%2c170964328%2c170964331%2c170964327%2c170964332%2c170964335%2c170964330%2c170964334%2c170964336%2c170964324%2c170964333%2c170964338%2c170964337%2c170964339&...\n",
      "[Errno 22] Invalid argument: 'ViewReport.aspx?oids=170964325%2c170964326%2c170964328%2c170964331%2c170964327%2c170964332%2c170964335%2c170964330%2c170964334%2c170964336%2c170964324%2c170964333%2c170964338%2c170964337%2c170964339&'\n"
     ]
    },
    {
     "data": {
      "text/plain": [
       "False"
      ]
     },
     "execution_count": 12,
     "metadata": {},
     "output_type": "execute_result"
    }
   ],
   "source": [
    "p.r().download('https://www.heartlandplusone.com/ViewReport.aspx?oids=170964325%2c170964326%2c170964328%2c170964331%2c170964327%2c170964332%2c170964335%2c170964330%2c170964334%2c170964336%2c170964324%2c170964333%2c170964338%2c170964337%2c170964339&')"
   ]
  },
  {
   "cell_type": "code",
   "execution_count": 13,
   "metadata": {},
   "outputs": [
    {
     "ename": "AttributeError",
     "evalue": "'Payroll' object has no attribute 'ChromeOptions'",
     "output_type": "error",
     "traceback": [
      "\u001b[1;31m---------------------------------------------------------------------------\u001b[0m",
      "\u001b[1;31mAttributeError\u001b[0m                            Traceback (most recent call last)",
      "\u001b[1;32m<ipython-input-13-9ae844a1bf01>\u001b[0m in \u001b[0;36m<module>\u001b[1;34m\u001b[0m\n\u001b[1;32m----> 1\u001b[1;33m \u001b[0mp\u001b[0m\u001b[1;33m.\u001b[0m\u001b[0mChromeOptions\u001b[0m\u001b[1;33m(\u001b[0m\u001b[1;33m)\u001b[0m\u001b[1;33m\u001b[0m\u001b[1;33m\u001b[0m\u001b[0m\n\u001b[0m",
      "\u001b[1;31mAttributeError\u001b[0m: 'Payroll' object has no attribute 'ChromeOptions'"
     ]
    }
   ],
   "source": [
    "p.ChromeOptions()"
   ]
  },
  {
   "cell_type": "code",
   "execution_count": 23,
   "metadata": {},
   "outputs": [
    {
     "data": {
      "text/plain": [
       "True"
      ]
     },
     "execution_count": 23,
     "metadata": {},
     "output_type": "execute_result"
    }
   ],
   "source": [
    "p.r().url('https://www.heartlandplusone.com/ViewReport.aspx?oids=170964325%2c170964326%2c170964328%2c170964331%2c170964327%2c170964332%2c170964335%2c170964330%2c170964334%2c170964336%2c170964324%2c170964333%2c170964338%2c170964337%2c170964339&')"
   ]
  },
  {
   "cell_type": "code",
   "execution_count": 25,
   "metadata": {},
   "outputs": [
    {
     "data": {
      "text/plain": [
       "True"
      ]
     },
     "execution_count": 25,
     "metadata": {},
     "output_type": "execute_result"
    }
   ],
   "source": [
    "p.r().download(fileURL,'again2.html')"
   ]
  },
  {
   "cell_type": "code",
   "execution_count": 18,
   "metadata": {},
   "outputs": [
    {
     "name": "stdout",
     "output_type": "stream",
     "text": [
      "[RPA][ERROR] - failed downloading from https://www.heartlandplusone.com/ViewReport.aspx?oids=170964325%2c170964326%2c170964328%2c170964331%2c170964327%2c170964332%2c170964335%2c170964330%2c170964334%2c170964336%2c170964324%2c170964333%2c170964338%2c170964337%2c170964339&...\n",
      "[Errno 22] Invalid argument: 'ViewReport.aspx?oids=170964325%2c170964326%2c170964328%2c170964331%2c170964327%2c170964332%2c170964335%2c170964330%2c170964334%2c170964336%2c170964324%2c170964333%2c170964338%2c170964337%2c170964339&'\n"
     ]
    },
    {
     "data": {
      "text/plain": [
       "False"
      ]
     },
     "execution_count": 18,
     "metadata": {},
     "output_type": "execute_result"
    }
   ],
   "source": [
    "p.r().download('https://www.heartlandplusone.com/ViewReport.aspx?oids=170964325%2c170964326%2c170964328%2c170964331%2c170964327%2c170964332%2c170964335%2c170964330%2c170964334%2c170964336%2c170964324%2c170964333%2c170964338%2c170964337%2c170964339&')"
   ]
  },
  {
   "cell_type": "code",
   "execution_count": null,
   "metadata": {},
   "outputs": [],
   "source": []
  },
  {
   "cell_type": "code",
   "execution_count": 8,
   "metadata": {},
   "outputs": [
    {
     "data": {
      "text/plain": [
       "<module 'payroll' from 'C:\\\\Users\\\\Rasnom\\\\acmebot\\\\payroll.py'>"
      ]
     },
     "execution_count": 8,
     "metadata": {},
     "output_type": "execute_result"
    }
   ],
   "source": [
    "importlib.reload(payroll)"
   ]
  }
 ],
 "metadata": {
  "kernelspec": {
   "display_name": "Python 3",
   "language": "python",
   "name": "python3"
  },
  "language_info": {
   "codemirror_mode": {
    "name": "ipython",
    "version": 3
   },
   "file_extension": ".py",
   "mimetype": "text/x-python",
   "name": "python",
   "nbconvert_exporter": "python",
   "pygments_lexer": "ipython3",
   "version": "3.8.10"
  },
  "toc-autonumbering": false,
  "toc-showcode": false,
  "toc-showmarkdowntxt": true
 },
 "nbformat": 4,
 "nbformat_minor": 4
}
