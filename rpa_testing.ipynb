{
 "cells": [
  {
   "cell_type": "code",
   "execution_count": 10,
   "metadata": {},
   "outputs": [
    {
     "data": {
      "text/plain": [
       "<module 'payroll' from 'C:\\\\Users\\\\Rasnom\\\\acmebot\\\\payroll.py'>"
      ]
     },
     "execution_count": 10,
     "metadata": {},
     "output_type": "execute_result"
    }
   ],
   "source": [
    "importlib.reload(payroll)"
   ]
  },
  {
   "cell_type": "code",
   "execution_count": 1,
   "metadata": {},
   "outputs": [],
   "source": [
    "import payroll\n",
    "import importlib"
   ]
  },
  {
   "cell_type": "code",
   "execution_count": 2,
   "metadata": {},
   "outputs": [],
   "source": [
    "p = payroll.Payroll()"
   ]
  },
  {
   "cell_type": "code",
   "execution_count": 3,
   "metadata": {},
   "outputs": [
    {
     "data": {
      "text/plain": [
       "'Ransom.Byers'"
      ]
     },
     "execution_count": 3,
     "metadata": {},
     "output_type": "execute_result"
    }
   ],
   "source": [
    "p.user"
   ]
  },
  {
   "cell_type": "code",
   "execution_count": 4,
   "metadata": {},
   "outputs": [],
   "source": [
    "p.login()"
   ]
  },
  {
   "cell_type": "code",
   "execution_count": 5,
   "metadata": {},
   "outputs": [],
   "source": [
    "p.get_to_reports()"
   ]
  },
  {
   "cell_type": "code",
   "execution_count": 6,
   "metadata": {},
   "outputs": [],
   "source": [
    "p.b().select_checkbox('id:SelectAllCheckBox')\n"
   ]
  },
  {
   "cell_type": "code",
   "execution_count": 13,
   "metadata": {},
   "outputs": [],
   "source": [
    "p.b().select_checkbox('//*[@type = \"checkbox\"]')\n"
   ]
  },
  {
   "cell_type": "code",
   "execution_count": 25,
   "metadata": {},
   "outputs": [
    {
     "data": {
      "text/plain": [
       "True"
      ]
     },
     "execution_count": 25,
     "metadata": {},
     "output_type": "execute_result"
    }
   ],
   "source": [
    "p.b().does_page_contain_element('//tr[contains(@class, \"selected\")]/td[contains(text(), \"5/19/2021\")]')"
   ]
  },
  {
   "cell_type": "code",
   "execution_count": 20,
   "metadata": {},
   "outputs": [],
   "source": [
    "p.b().click_element_when_visible('//td[contains(text(), \"5/7/2021\")]')\n",
    "p.b().wait_until_page_contains_element('//tr[contains(@class, \"selected\")]/td[contains(text(), \"5/7/2021\")]')\n",
    "# p.b().select_checkbox('id:SelectAllCheckBox')\n"
   ]
  },
  {
   "cell_type": "code",
   "execution_count": 13,
   "metadata": {},
   "outputs": [
    {
     "ename": "NameError",
     "evalue": "name 'wait_until_page_contains_element' is not defined",
     "output_type": "error",
     "traceback": [
      "\u001b[1;31m---------------------------------------------------------------------------\u001b[0m",
      "\u001b[1;31mNameError\u001b[0m                                 Traceback (most recent call last)",
      "\u001b[1;32m<ipython-input-13-56ff98a14cc0>\u001b[0m in \u001b[0;36m<module>\u001b[1;34m\u001b[0m\n\u001b[1;32m----> 1\u001b[1;33m \u001b[0mwait_until_page_contains_element\u001b[0m\u001b[1;33m(\u001b[0m\u001b[1;34m'//tr[contains(@class, \"selected\")]/td[contains(text(), \"5/7/2021\")]'\u001b[0m\u001b[1;33m)\u001b[0m\u001b[1;33m\u001b[0m\u001b[1;33m\u001b[0m\u001b[0m\n\u001b[0m",
      "\u001b[1;31mNameError\u001b[0m: name 'wait_until_page_contains_element' is not defined"
     ]
    }
   ],
   "source": [
    "wait_until_page_contains_element('//tr[contains(@class, \"selected\")]/td[contains(text(), \"5/7/2021\")]')"
   ]
  },
  {
   "cell_type": "code",
   "execution_count": 12,
   "metadata": {},
   "outputs": [
    {
     "name": "stdout",
     "output_type": "stream",
     "text": [
      "[RPA][ERROR] - failed downloading from https://www.heartlandplusone.com/ViewReport.aspx?oids=170964325%2c170964326%2c170964328%2c170964331%2c170964327%2c170964332%2c170964335%2c170964330%2c170964334%2c170964336%2c170964324%2c170964333%2c170964338%2c170964337%2c170964339&...\n",
      "[Errno 22] Invalid argument: 'ViewReport.aspx?oids=170964325%2c170964326%2c170964328%2c170964331%2c170964327%2c170964332%2c170964335%2c170964330%2c170964334%2c170964336%2c170964324%2c170964333%2c170964338%2c170964337%2c170964339&'\n"
     ]
    },
    {
     "data": {
      "text/plain": [
       "False"
      ]
     },
     "execution_count": 12,
     "metadata": {},
     "output_type": "execute_result"
    }
   ],
   "source": [
    "p.r().download('https://www.heartlandplusone.com/ViewReport.aspx?oids=170964325%2c170964326%2c170964328%2c170964331%2c170964327%2c170964332%2c170964335%2c170964330%2c170964334%2c170964336%2c170964324%2c170964333%2c170964338%2c170964337%2c170964339&')"
   ]
  },
  {
   "cell_type": "code",
   "execution_count": 15,
   "metadata": {},
   "outputs": [
    {
     "data": {
      "text/plain": [
       "True"
      ]
     },
     "execution_count": 15,
     "metadata": {},
     "output_type": "execute_result"
    }
   ],
   "source": [
    "p.r().close()"
   ]
  },
  {
   "cell_type": "code",
   "execution_count": 23,
   "metadata": {},
   "outputs": [
    {
     "data": {
      "text/plain": [
       "True"
      ]
     },
     "execution_count": 23,
     "metadata": {},
     "output_type": "execute_result"
    }
   ],
   "source": [
    "p.r().url('https://www.heartlandplusone.com/ViewReport.aspx?oids=170964325%2c170964326%2c170964328%2c170964331%2c170964327%2c170964332%2c170964335%2c170964330%2c170964334%2c170964336%2c170964324%2c170964333%2c170964338%2c170964337%2c170964339&')"
   ]
  },
  {
   "cell_type": "code",
   "execution_count": 25,
   "metadata": {},
   "outputs": [
    {
     "data": {
      "text/plain": [
       "True"
      ]
     },
     "execution_count": 25,
     "metadata": {},
     "output_type": "execute_result"
    }
   ],
   "source": [
    "p.r().download(fileURL,'again2.html')"
   ]
  },
  {
   "cell_type": "code",
   "execution_count": 18,
   "metadata": {},
   "outputs": [
    {
     "name": "stdout",
     "output_type": "stream",
     "text": [
      "[RPA][ERROR] - failed downloading from https://www.heartlandplusone.com/ViewReport.aspx?oids=170964325%2c170964326%2c170964328%2c170964331%2c170964327%2c170964332%2c170964335%2c170964330%2c170964334%2c170964336%2c170964324%2c170964333%2c170964338%2c170964337%2c170964339&...\n",
      "[Errno 22] Invalid argument: 'ViewReport.aspx?oids=170964325%2c170964326%2c170964328%2c170964331%2c170964327%2c170964332%2c170964335%2c170964330%2c170964334%2c170964336%2c170964324%2c170964333%2c170964338%2c170964337%2c170964339&'\n"
     ]
    },
    {
     "data": {
      "text/plain": [
       "False"
      ]
     },
     "execution_count": 18,
     "metadata": {},
     "output_type": "execute_result"
    }
   ],
   "source": [
    "p.r().download('https://www.heartlandplusone.com/ViewReport.aspx?oids=170964325%2c170964326%2c170964328%2c170964331%2c170964327%2c170964332%2c170964335%2c170964330%2c170964334%2c170964336%2c170964324%2c170964333%2c170964338%2c170964337%2c170964339&')"
   ]
  },
  {
   "cell_type": "code",
   "execution_count": null,
   "metadata": {},
   "outputs": [],
   "source": []
  },
  {
   "cell_type": "code",
   "execution_count": 8,
   "metadata": {},
   "outputs": [
    {
     "data": {
      "text/plain": [
       "<module 'payroll' from 'C:\\\\Users\\\\Rasnom\\\\acmebot\\\\payroll.py'>"
      ]
     },
     "execution_count": 8,
     "metadata": {},
     "output_type": "execute_result"
    }
   ],
   "source": [
    "importlib.reload(payroll)"
   ]
  }
 ],
 "metadata": {
  "kernelspec": {
   "display_name": "Python 3",
   "language": "python",
   "name": "python3"
  },
  "language_info": {
   "codemirror_mode": {
    "name": "ipython",
    "version": 3
   },
   "file_extension": ".py",
   "mimetype": "text/x-python",
   "name": "python",
   "nbconvert_exporter": "python",
   "pygments_lexer": "ipython3",
   "version": "3.8.10"
  },
  "toc-autonumbering": false,
  "toc-showcode": false,
  "toc-showmarkdowntxt": true
 },
 "nbformat": 4,
 "nbformat_minor": 4
}
